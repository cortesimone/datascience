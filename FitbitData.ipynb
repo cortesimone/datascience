{
 "cells": [
  {
   "cell_type": "markdown",
   "metadata": {},
   "source": [
    "This is code for creating simple plots of daily Fitbit data in python. \n",
    "\n",
    "It will create the following plots:\n",
    "* Time Series w/ rolling mean\n",
    "* Histogram\n",
    "* Density Plot parsed by day of the week \n",
    "\n",
    "Taken from [Bonnie Barrilleaux](http://bonniebarrilleaux.com/). \n",
    "Her Fitbit data post is avaiable here: [Freeing My Fitbit Data](http://bonniebarrilleaux.com/2013/12/22/freeing-my-fitbit-data/)\n",
    "This code was copied from her [gist here](https://gist.github.com/bbarrilleaux/8090081#file-fitbitstats-py)"
   ]
  },
  {
   "cell_type": "code",
   "execution_count": null,
   "metadata": {
    "collapsed": true
   },
   "outputs": [],
   "source": [
    "import numpy as np\n",
    "import pandas as pd\n",
    "import matplotlib\n",
    "import pylab\n",
    "from matplotlib import pyplot\n",
    "from scipy.stats import gaussian_kde\n",
    " \n",
    "data = pd.read_csv('fitbit.csv', usecols = [0, 1], parse_dates = True)\n",
    " \n",
    "#count and remove days where <100 steps were logged, \n",
    "#because those were when Fitbit wasn't working.\n",
    "data[data['steps'] <= 100].count()\n",
    "data = data[data['steps'] > 100]\n",
    " \n",
    "data['daynumber'] = data.date.map(lambda x: pd.to_datetime(x).weekday()) \n",
    "data['weekday'] = data.date.map(lambda x: pd.to_datetime(x).strftime(\"%a\")) \n",
    "data['rollingmean'] = pd.rolling_mean(data['steps'], window = 50, min_periods = 0)\n",
    " \n",
    " \n",
    "#Time series plot with rolling mean\n",
    "pyplot.plot(pd.to_datetime(data['date']), data['steps'], \"r\", linewidth = 1)\n",
    "pyplot.plot(pd.to_datetime(data['date']), data['rollingmean'], \"b\", linewidth = 2)\n",
    "pyplot.xticks(rotation = 90)\n",
    "pyplot.title('Fitbit steps per day', size = 24)\n",
    "pyplot.ylabel('Steps', size = 18)\n",
    "pyplot.subplots_adjust(bottom = .15, top = .9)\n",
    "pyplot.show()\n",
    " \n",
    "#histogram of steps\n",
    "pyplot.hist(data['steps'], bins = 50, histtype = 'stepfilled')\n",
    "pyplot.title('Histogram of Fitbit steps', size = 24)\n",
    "pyplot.xlabel('Steps', size = 18)\n",
    "pyplot.ylabel('Number of days', size = 18)\n",
    "pyplot.show()\n",
    " \n",
    " \n",
    "# Density plot broken into days of the week\n",
    "sorteddata = data.sort_index(by = ['daynumber'], ascending = [True])\n",
    " \n",
    "for key, grp in sorteddata.groupby(['weekday']):\n",
    "\tprint(key)\n",
    "\tprint('Average number of steps:', grp['steps'].mean())\n",
    "\tprint('Percent of days exceeding 15,000 steps:', (grp[grp['steps'] > 15000].count()[1])*100/grp.count()[1], \"%\")\n",
    "\tdensity = gaussian_kde(grp['steps'])\n",
    "\txnew = np.linspace(0,30000,200)\n",
    "\tdensity.covariance_factor = lambda : .25\n",
    "\tdensity._compute_covariance()\n",
    "\tpyplot.plot(xnew, density(xnew), label = key, linewidth = 2)\n",
    " \n",
    "pyplot.legend(fancybox = True, fontsize = 18)\n",
    "pyplot.title('Histogram of Fitbit steps by weekday', size = 24)\n",
    "pyplot.xlabel('Steps', size = 18)\n",
    "pyplot.ylabel('Density', size = 18)\n",
    "pyplot.subplots_adjust(left = .15, right = .9)\n",
    "pyplot.show()"
   ]
  }
 ],
 "metadata": {
  "kernelspec": {
   "display_name": "Python 2",
   "language": "python",
   "name": "python2"
  },
  "language_info": {
   "codemirror_mode": {
    "name": "ipython",
    "version": 2
   },
   "file_extension": ".py",
   "mimetype": "text/x-python",
   "name": "python",
   "nbconvert_exporter": "python",
   "pygments_lexer": "ipython2",
   "version": "2.7.9"
  }
 },
 "nbformat": 4,
 "nbformat_minor": 0
}
