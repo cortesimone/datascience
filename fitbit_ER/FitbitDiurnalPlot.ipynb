{
 "cells": [
  {
   "cell_type": "markdown",
   "metadata": {},
   "source": [
    "This code should make a diurnal plot of Fitbit data. \n",
    "\n",
    "Copied from [Matthew Gaudet](https://github.com/mgaudet/FitbitAnalysisTools/blob/master/Diurnal_Plot.py)\n",
    "\n",
    "You can view Matthew's [plot here](http://webdocs.cs.ualberta.ca/~mgaudet/blog/blog/2013/08/18/Fitbit-Data-Part-Two/). "
   ]
  },
  {
   "cell_type": "code",
   "execution_count": null,
   "metadata": {
    "collapsed": true
   },
   "outputs": [],
   "source": [
    "import sys\n",
    "import datetime as dt\n",
    "import matplotlib.pyplot as plt\n",
    "import numpy as np\n",
    "import matplotlib as mpl\n",
    "\n",
    "\"\"\"\n",
    "Diurnal_Plot.py: \n",
    "\n",
    "    Produce diurnal plots of fitbit data (5 min intervals). \n",
    "    Inspired by Stephen Wolfram's \"The Personal Analytics of my Life\"\n",
    "    (http://blog.stephenwolfram.com/2012/03/the-personal-analytics-of-my-life/) \n",
    "\n",
    "    Call with fitbit data as first argument. \n",
    "\"\"\"\n",
    "\n",
    "if __name__=='__main__': \n",
    "    filename = sys.argv[1]\n",
    "    minutes_in_day = (24 * 60) \n",
    "    X   = [] \n",
    "    Y   = [] \n",
    "    values = []\n",
    "    with open(filename,'r') as f: \n",
    "        day_num = -1\n",
    "        day = None\n",
    "        time_num = 0\n",
    "        for l in f: \n",
    "            \n",
    "            parts   = l.split(\",\")\n",
    "            date_s  = parts[0]\n",
    "            value   = int(parts[1]) \n",
    "            datet   = dt.datetime.strptime(date_s, \"%Y-%m-%d %H:%M\")\n",
    "            if day != datet.date():\n",
    "                day_num = day_num + 1\n",
    "                day = datet.date()\n",
    "           \n",
    "\n",
    "            if value > 0: \n",
    "                values.append(value)\n",
    "                X.append(datet.date()) \n",
    "                Y.append(minutes_in_day - (datet.time().hour * 60 + datet.time().minute))\n",
    "\n",
    "    #Y axis locations\n",
    "    locations = np.arange(0,24)*60\n",
    "\n",
    "    #Y axis labels\n",
    "    labels    = [\"%d:00\" % ((24*60 - x) /60) for x in locations]\n",
    "\n",
    "    ax = plt.scatter(X,Y, c=values, s=3, facecolor='0.5', lw = 0, cmap=mpl.cm.YlGnBu)\n",
    "    plt.ylim([0,minutes_in_day]) \n",
    "    plt.yticks(locations,labels)\n",
    "    plt.savefig(\"FitbitData.png\", fmt=\"png\"); \n"
   ]
  }
 ],
 "metadata": {
  "kernelspec": {
   "display_name": "Python 2",
   "language": "python",
   "name": "python2"
  },
  "language_info": {
   "codemirror_mode": {
    "name": "ipython",
    "version": 2
   },
   "file_extension": ".py",
   "mimetype": "text/x-python",
   "name": "python",
   "nbconvert_exporter": "python",
   "pygments_lexer": "ipython2",
   "version": "2.7.9"
  }
 },
 "nbformat": 4,
 "nbformat_minor": 0
}
